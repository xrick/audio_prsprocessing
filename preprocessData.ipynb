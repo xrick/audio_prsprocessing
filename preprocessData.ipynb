{
 "cells": [
  {
   "cell_type": "code",
   "execution_count": 1,
   "metadata": {},
   "outputs": [],
   "source": [
    "import os\n",
    "import numpy as np"
   ]
  },
  {
   "cell_type": "code",
   "execution_count": null,
   "metadata": {},
   "outputs": [],
   "source": [
    "def getNextLevelDirs(root):\n",
    "     return next(os.walk(root))[1]\n",
    "\n",
    "def getFileList(basePath):\n",
    "    firstLevelDirs = getNextLevelDirs(basePath)\n",
    "    return firstLevelDirs"
   ]
  },
  {
   "cell_type": "code",
   "execution_count": 2,
   "metadata": {},
   "outputs": [],
   "source": [
    "def extract_loudest_section(BasePathToFolder,FolderList,TargetFolderFullPath,callbackBeforeAction=None,callbackAfterAction=None):\n",
    "    for folder in FolderList:\n",
    "        D = os.path.join(BasePathToFolder,folder)\n",
    "        files = [os.path.join(D,F) for F in next(os.walk(D))[2] if F.endswith('.wav')]\n",
    "        for file in files:\n",
    "            #call callback before action\n",
    "            if callbackBeforeAction:\n",
    "                callbackBeforeAction(file)\n",
    "            #call extract wav loudest section\n",
    "            extract_wav_loudest_section(file,TargetFolderFullPath)\n",
    "            if callbackAfterAction:\n",
    "                callbackAfterAction(file,TargetFolderFullPath)\n",
    "\n",
    "def extract_wav_loudest_section(RawAudioFileFullName, TagetFolder):\n",
    "    #print(\"processing file {}\".format(RawAudioFile))\n",
    "    call([\"./extract_loudest_section\", RawAudioFileFullName, TagetFolder])\n",
    "    #print(\"{} has been processed.\".format(RawAudioFileFullName))"
   ]
  },
  {
   "cell_type": "code",
   "execution_count": null,
   "metadata": {},
   "outputs": [],
   "source": [
    "def CreateGroupOfFolders(RootFolder,FolderNameList):\n",
    "    for name in FolderNameList:\n",
    "        dirname = RootFolder+name\n",
    "        os.makedirs(dirname)"
   ]
  }
 ],
 "metadata": {
  "kernelspec": {
   "display_name": "Python 3",
   "language": "python",
   "name": "python3"
  },
  "language_info": {
   "codemirror_mode": {
    "name": "ipython",
    "version": 3
   },
   "file_extension": ".py",
   "mimetype": "text/x-python",
   "name": "python",
   "nbconvert_exporter": "python",
   "pygments_lexer": "ipython3",
   "version": "3.6.5"
  }
 },
 "nbformat": 4,
 "nbformat_minor": 2
}
